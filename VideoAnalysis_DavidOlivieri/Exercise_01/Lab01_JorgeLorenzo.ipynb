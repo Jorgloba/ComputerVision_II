{
 "cells": [
  {
   "cell_type": "markdown",
   "id": "d7320112",
   "metadata": {},
   "source": [
    "# Background sustraction methods comparison"
   ]
  },
  {
   "cell_type": "markdown",
   "id": "6db8501f",
   "metadata": {},
   "source": [
    "**Introduction:** \n",
    "\n",
    "The cdnet dataset from 2012 is a benchmark dataset widely used for evaluating change detection algorithms. The algorithms (MOG, CNT and GMG) were evaluated using this dataset and their performance was compared based on several evaluation metrics such as precision, recall, F1 score, and accuracy. The results of this analysis provide valuable insights into the strengths and weaknesses of each algorithm, which can help in selecting the most appropriate algorithm for specific change detection applications."
   ]
  },
  {
   "cell_type": "markdown",
   "id": "1957ed12",
   "metadata": {},
   "source": [
    "**Methods:**\n",
    "\n",
    "MOG: stands for Mixture of Gaussians and it is a commonly used algorithm for background subtraction in video processing. The algorithm models the background of a video as a mixture of several Gaussian distributions, each representing a different pixel intensity value in the background. Then, it compares each new frame of the video to this background model and considers the pixel as foreground if its intensity is significantly different from the modeled Gaussian distributions. This allows the algorithm to segment out moving objects in the video from the static background. MOG is a simple and efficient algorithm that works well in many video processing applications, and it is often used as a baseline algorithm for comparing the performance of more advanced change detection algorithms.\n",
    "\n",
    "CNT: stands for Codebook-based Nearest-neighbour Tendency and is a background subtraction algorithm that represents the background of a video as a codebook, which contains information about the pixel values and their frequencies in the background. It then identifies moving objects by comparing each new frame of the video to this codebook and using nearest-neighbor classifiers to classify pixels as foreground or background. CNT is a robust algorithm that works well in challenging video processing scenarios with dynamic backgrounds and illumination changes.\n",
    "\n",
    "GMG: stands for Global Motion-based Background Subtraction and is a background subtraction algorithm that models the background of a video as a global motion model, which captures the overall motion of the scene. It then identifies moving objects by analyzing the deviation of each pixel's motion from this global motion model. GMG is a robust algorithm that works well in scenarios with camera motion and dynamic backgrounds, and it can adapt quickly to changes in the scene. It is often used in real-time video processing applications."
   ]
  },
  {
   "cell_type": "markdown",
   "id": "8f6c8351",
   "metadata": {},
   "source": [
    "Note: this analysis has been carried out for the thermal dataset only"
   ]
  },
  {
   "cell_type": "markdown",
   "id": "3dd97004",
   "metadata": {},
   "source": [
    "## Code"
   ]
  },
  {
   "cell_type": "code",
   "execution_count": 6,
   "id": "55b11e52",
   "metadata": {},
   "outputs": [],
   "source": [
    "import argparse\n",
    "import cv2 as cv\n",
    "import glob\n",
    "import numpy as np\n",
    "import os\n",
    "import time\n",
    "\n",
    "# This tool is intended for evaluation of different background subtraction algorithms presented in OpenCV.\n",
    "# Several presets with different settings are available. You can see them below.\n",
    "# This tool measures quality metrics as well as speed.\n",
    "\n",
    "ALGORITHMS_TO_EVALUATE = [\n",
    "    (cv.bgsegm.createBackgroundSubtractorMOG, 'MOG', {}),\n",
    "    (cv.bgsegm.createBackgroundSubtractorGMG, 'GMG', {}),\n",
    "    (cv.bgsegm.createBackgroundSubtractorCNT, 'CNT', {}),\n",
    "    (cv.bgsegm.createBackgroundSubtractorLSBP, 'LSBP-vanilla', {'nSamples': 20, 'LSBPRadius': 4, 'Tlower': 2.0, 'Tupper': 200.0, 'Tinc': 1.0, 'Tdec': 0.05, 'Rscale': 5.0, 'Rincdec': 0.05, 'LSBPthreshold': 8}),\n",
    "    (cv.bgsegm.createBackgroundSubtractorLSBP, 'LSBP-speed', {'nSamples': 10, 'LSBPRadius': 16, 'Tlower': 2.0, 'Tupper': 32.0, 'Tinc': 1.0, 'Tdec': 0.05, 'Rscale': 10.0, 'Rincdec': 0.005, 'LSBPthreshold': 8}),\n",
    "    (cv.bgsegm.createBackgroundSubtractorLSBP, 'LSBP-quality', {'nSamples': 20, 'LSBPRadius': 16, 'Tlower': 2.0, 'Tupper': 32.0, 'Tinc': 1.0, 'Tdec': 0.05, 'Rscale': 10.0, 'Rincdec': 0.005, 'LSBPthreshold': 8}),\n",
    "    (cv.bgsegm.createBackgroundSubtractorLSBP, 'LSBP-camera-motion-compensation', {'mc': 1}),\n",
    "    (cv.bgsegm.createBackgroundSubtractorGSOC, 'GSOC', {}),\n",
    "    (cv.bgsegm.createBackgroundSubtractorGSOC, 'GSOC-camera-motion-compensation', {'mc': 1})\n",
    "]\n",
    "\n",
    "def contains_relevant_files(root):\n",
    "    return os.path.isdir(os.path.join(root, 'groundtruth')) and os.path.isdir(os.path.join(root, 'input'))\n",
    "\n",
    "\n",
    "def find_relevant_dirs(root):\n",
    "    relevant_dirs = []\n",
    "    for d in sorted(os.listdir(root)):\n",
    "        d = os.path.join(root, d)\n",
    "        if os.path.isdir(d):\n",
    "            if contains_relevant_files(d):\n",
    "                relevant_dirs += [d]\n",
    "            else:\n",
    "                relevant_dirs += find_relevant_dirs(d)\n",
    "    return relevant_dirs\n",
    "\n",
    "\n",
    "def load_sequence(root):\n",
    "    gt_dir, frames_dir = os.path.join(root, 'groundtruth'), os.path.join(root, 'input')\n",
    "    gt = sorted(glob.glob(os.path.join(gt_dir, '*.png')))\n",
    "    f = sorted(glob.glob(os.path.join(frames_dir, '*.jpg')))\n",
    "    assert(len(gt) == len(f))\n",
    "    return gt, f\n",
    "\n",
    "\n",
    "def evaluate_algorithm(gt, frames, algo, algo_arguments):\n",
    "    bgs = algo(**algo_arguments)\n",
    "    mask = []\n",
    "    t_start = time.time()\n",
    "\n",
    "    for i in range(len(gt)):\n",
    "        frame = np.uint8(cv.imread(frames[i], cv.IMREAD_COLOR))\n",
    "        mask.append(bgs.apply(frame))\n",
    "\n",
    "    average_duration = (time.time() - t_start) / len(gt)\n",
    "    average_precision, average_recall, average_f1, average_accuracy = [], [], [], []\n",
    "\n",
    "    for i in range(len(gt)):\n",
    "        gt_mask = np.uint8(cv.imread(gt[i], cv.IMREAD_GRAYSCALE))\n",
    "        roi = ((gt_mask == 255) | (gt_mask == 0))\n",
    "        if roi.sum() > 0:\n",
    "            gt_answer, answer = gt_mask[roi], mask[i][roi]\n",
    "\n",
    "            tp = ((answer == 255) & (gt_answer == 255)).sum()\n",
    "            tn = ((answer == 0) & (gt_answer == 0)).sum()\n",
    "            fp = ((answer == 255) & (gt_answer == 0)).sum()\n",
    "            fn = ((answer == 0) & (gt_answer == 255)).sum()\n",
    "\n",
    "            if tp + fp > 0:\n",
    "                average_precision.append(float(tp) / (tp + fp))\n",
    "            if tp + fn > 0:\n",
    "                average_recall.append(float(tp) / (tp + fn))\n",
    "            if tp + fn + fp > 0:\n",
    "                average_f1.append(2.0 * tp / (2.0 * tp + fn + fp))\n",
    "            average_accuracy.append(float(tp + tn) / (tp + tn + fp + fn))\n",
    "\n",
    "    return average_duration, np.mean(average_precision), np.mean(average_recall), np.mean(average_f1), np.mean(average_accuracy)\n",
    "\n",
    "\n",
    "def evaluate_on_sequence(seq, summary):\n",
    "    gt, frames = load_sequence(seq)\n",
    "    category, video_name = os.path.basename(os.path.dirname(seq)), os.path.basename(seq)\n",
    "    print('=== %s:%s ===' % (category, video_name))\n",
    "\n",
    "    for algo, algo_name, algo_arguments in ALGORITHMS_TO_EVALUATE:\n",
    "        print('Algorithm name: %s' % algo_name)\n",
    "        sec_per_step, precision, recall, f1, accuracy = evaluate_algorithm(gt, frames, algo, algo_arguments)\n",
    "        print('Average accuracy: %.3f' % accuracy)\n",
    "        print('Average precision: %.3f' % precision)\n",
    "        print('Average recall: %.3f' % recall)\n",
    "        print('Average F1: %.3f' % f1)\n",
    "        print('Average sec. per step: %.4f' % sec_per_step)\n",
    "        print('')\n",
    "\n",
    "        if category not in summary:\n",
    "            summary[category] = {}\n",
    "        if algo_name not in summary[category]:\n",
    "            summary[category][algo_name] = []\n",
    "        summary[category][algo_name].append((precision, recall, f1, accuracy))\n",
    "        \n",
    "\n",
    "def main_evaluator(args):\n",
    "    parser = argparse.ArgumentParser(description='Evaluate all background subtractors using Change Detection 2014 dataset')\n",
    "    parser.add_argument('--dataset_path', help='Path to the directory with dataset. It may contain multiple inner directories. It will be scanned recursively.', required=True)\n",
    "    parser.add_argument('--algorithm', help='Test particular algorithm instead of all.')\n",
    "\n",
    "    args = parser.parse_args(args)\n",
    "    print(f'Input file path: {args.dataset_path}')\n",
    "    print(f'Number of times to repeat: {args.algorithm}')\n",
    "    \n",
    "\n",
    "    \n",
    "    dataset_dirs = find_relevant_dirs(args.dataset_path)\n",
    "    assert len(dataset_dirs) > 0, (\"Passed directory must contain at least one sequence from the Change Detection dataset. There is no relevant directories in %s. Check that this directory is correct.\" % (args.dataset_path))\n",
    "    \n",
    "    \n",
    "    if args.algorithm is not None:\n",
    "        global ALGORITHMS_TO_EVALUATE\n",
    "        ALGORITHMS_TO_EVALUATE = filter(lambda a: a[1].lower() == args.algorithm.lower(), ALGORITHMS_TO_EVALUATE)\n",
    "    summary = {}\n",
    "\n",
    "    \n",
    "    for seq in dataset_dirs:\n",
    "        evaluate_on_sequence(seq, summary)\n",
    "\n",
    "    for category in summary:\n",
    "        for algo_name in summary[category]:\n",
    "            summary[category][algo_name] = np.mean(summary[category][algo_name], axis=0)\n",
    "\n",
    "    for category in summary:\n",
    "        print('=== SUMMARY for %s (Precision, Recall, F1, Accuracy) ===' % category)\n",
    "        for algo_name in summary[category]:\n",
    "            print()\n",
    "            output = ((algo_name,) + tuple(summary[category][algo_name]))\n",
    "            print('%05s: %.3f %.3f %.3f %.3f' % output)\n",
    "            \n",
    "    return output\n",
    "    \n",
    "\n"
   ]
  },
  {
   "cell_type": "markdown",
   "id": "43911df6",
   "metadata": {},
   "source": [
    "### Running the code:"
   ]
  },
  {
   "cell_type": "code",
   "execution_count": 2,
   "id": "9d9f1612",
   "metadata": {},
   "outputs": [
    {
     "name": "stdout",
     "output_type": "stream",
     "text": [
      "Input file path: ./dataset2012/dataset/thermal/\n",
      "Number of times to repeat: MOG\n",
      "=== thermal:corridor ===\n",
      "Algorithm name: MOG\n",
      "Average accuracy: 0.983\n",
      "Average precision: 0.840\n",
      "Average recall: 0.244\n",
      "Average F1: 0.292\n",
      "Average sec. per step: 0.0032\n",
      "\n",
      "=== thermal:diningRoom ===\n",
      "=== thermal:lakeSide ===\n",
      "=== thermal:library ===\n",
      "=== thermal:park ===\n",
      "=== SUMMARY for thermal (Precision, Recall, F1, Accuracy) ===\n",
      "\n",
      "  MOG: 0.840 0.244 0.292 0.983\n"
     ]
    }
   ],
   "source": [
    "data = []\n",
    "data.append(main_evaluator(['--dataset_path','./dataset2012/dataset/thermal/', '--algorithm', 'MOG']))"
   ]
  },
  {
   "cell_type": "code",
   "execution_count": 5,
   "id": "f3d80a72",
   "metadata": {},
   "outputs": [
    {
     "name": "stdout",
     "output_type": "stream",
     "text": [
      "Input file path: ./dataset2012/dataset/thermal/\n",
      "Number of times to repeat: CNT\n",
      "=== thermal:corridor ===\n",
      "Algorithm name: CNT\n",
      "Average accuracy: 0.968\n",
      "Average precision: 0.340\n",
      "Average recall: 0.935\n",
      "Average F1: 0.401\n",
      "Average sec. per step: 0.0016\n",
      "\n",
      "=== thermal:diningRoom ===\n",
      "=== thermal:lakeSide ===\n",
      "=== thermal:library ===\n",
      "=== thermal:park ===\n",
      "=== SUMMARY for thermal (Precision, Recall, F1, Accuracy) ===\n",
      "\n",
      "  CNT: 0.340 0.935 0.401 0.968\n"
     ]
    }
   ],
   "source": [
    "data.append(main_evaluator(['--dataset_path','./dataset2012/dataset/thermal/', '--algorithm', 'CNT']))"
   ]
  },
  {
   "cell_type": "code",
   "execution_count": 7,
   "id": "e70f3ee1",
   "metadata": {},
   "outputs": [
    {
     "name": "stdout",
     "output_type": "stream",
     "text": [
      "Input file path: ./dataset2012/dataset/thermal/\n",
      "Number of times to repeat: GMG\n",
      "=== thermal:corridor ===\n",
      "Algorithm name: GMG\n",
      "Average accuracy: 0.973\n",
      "Average precision: 0.805\n",
      "Average recall: 0.100\n",
      "Average F1: 0.135\n",
      "Average sec. per step: 0.0077\n",
      "\n",
      "=== thermal:diningRoom ===\n",
      "=== thermal:lakeSide ===\n",
      "=== thermal:library ===\n",
      "=== thermal:park ===\n",
      "=== SUMMARY for thermal (Precision, Recall, F1, Accuracy) ===\n",
      "\n",
      "  GMG: 0.805 0.100 0.135 0.973\n"
     ]
    }
   ],
   "source": [
    "data.append(main_evaluator(['--dataset_path','./dataset2012/dataset/thermal/', '--algorithm', 'GMG']))"
   ]
  },
  {
   "cell_type": "markdown",
   "id": "02a7c78e",
   "metadata": {},
   "source": [
    "# Results:"
   ]
  },
  {
   "cell_type": "code",
   "execution_count": 8,
   "id": "f9f421d0",
   "metadata": {},
   "outputs": [
    {
     "data": {
      "image/png": "[encoded data removed]",
      "text/plain": [
       "<Figure size 640x480 with 1 Axes>"
      ]
     },
     "metadata": {},
     "output_type": "display_data"
    }
   ],
   "source": [
    "import matplotlib.pyplot as plt\n",
    "\n",
    "# Extract the labels and values from the input data\n",
    "labels = [d[0] for d in data]\n",
    "precision = [d[1] for d in data]\n",
    "recall = [d[2] for d in data]\n",
    "f1 = [d[3] for d in data]\n",
    "accuracy = [d[4] for d in data]\n",
    "\n",
    "# Create a horizontal bar chart with 4 bars for each algorithm\n",
    "x = range(len(labels))\n",
    "width = 0.2\n",
    "\n",
    "fig, ax = plt.subplots()\n",
    "rects1 = ax.barh(x, precision, height=width, label='Precision')\n",
    "rects2 = ax.barh([i + width for i in x], recall, height=width, label='Recall')\n",
    "rects3 = ax.barh([i + 2*width for i in x], f1, height=width, label='F1')\n",
    "rects4 = ax.barh([i + 3*width for i in x], accuracy, height=width, label='Accuracy')\n",
    "\n",
    "# Add some text for labels, title and axes ticks\n",
    "ax.set_xlabel('Scores')\n",
    "ax.set_title('Performance of different algorithms')\n",
    "ax.set_yticks([i + 1.5*width for i in x])\n",
    "ax.set_yticklabels(labels)\n",
    "ax.legend()\n",
    "\n",
    "plt.show()"
   ]
  },
  {
   "cell_type": "code",
   "execution_count": 10,
   "id": "ae88b970",
   "metadata": {},
   "outputs": [
    {
     "name": "stdout",
     "output_type": "stream",
     "text": [
      "Precision differences from MOG:\n",
      "MOG: 0.00%\n",
      "CNT: -59.57%\n",
      "GMG: -4.18%\n",
      "\n",
      "Recall differences from MOG:\n",
      "MOG: 0.00%\n",
      "CNT: 283.48%\n",
      "GMG: -59.03%\n",
      "\n",
      "F1 differences from MOG:\n",
      "MOG: 0.00%\n",
      "CNT: 37.41%\n",
      "GMG: -53.70%\n",
      "\n",
      "Accuracy differences from MOG:\n",
      "MOG: 0.00%\n",
      "CNT: -1.50%\n",
      "GMG: -1.04%\n"
     ]
    }
   ],
   "source": [
    "# Find the index of the MOG algorithm in the data list\n",
    "mog_index = [i for i, d in enumerate(data) if d[0] == 'MOG'][0]\n",
    "\n",
    "# Calculate the difference in scores between each algorithm and MOG for each metric as percentages\n",
    "precision_diff = [(d[1] - data[mog_index][1])/data[mog_index][1] * 100 for d in data]\n",
    "recall_diff = [(d[2] - data[mog_index][2])/data[mog_index][2] * 100 for d in data]\n",
    "f1_diff = [(d[3] - data[mog_index][3])/data[mog_index][3] * 100 for d in data]\n",
    "accuracy_diff = [(d[4] - data[mog_index][4])/data[mog_index][4] * 100 for d in data]\n",
    "\n",
    "# Print the results\n",
    "print(\"Precision differences from MOG:\")\n",
    "for i, d in enumerate(data):\n",
    "    print(f\"{d[0]}: {precision_diff[i]:.2f}%\")\n",
    "\n",
    "print(\"\\nRecall differences from MOG:\")\n",
    "for i, d in enumerate(data):\n",
    "    print(f\"{d[0]}: {recall_diff[i]:.2f}%\")\n",
    "\n",
    "print(\"\\nF1 differences from MOG:\")\n",
    "for i, d in enumerate(data):\n",
    "    print(f\"{d[0]}: {f1_diff[i]:.2f}%\")\n",
    "\n",
    "print(\"\\nAccuracy differences from MOG:\")\n",
    "for i, d in enumerate(data):\n",
    "    print(f\"{d[0]}: {accuracy_diff[i]:.2f}%\")"
   ]
  },
  {
   "cell_type": "markdown",
   "id": "ccf092f0",
   "metadata": {},
   "source": [
    "## Discussion:\n",
    "\n",
    "Based on the numerical comparison of the algorithms taking as baseline the MOG algorithm, we can observe the following:\n",
    "\n",
    "- **Precision:** CNT performs the worst with a 59.57% decrease in precision compared to MOG. GMG also performs worse than MOG with a 4.13% decrease, while MOG itself has a precision score of 0.00% compared to itself.\n",
    "\n",
    "- **Recall:** Both CNT and GMG perform better than MOG, with a 283.94% and 58.97% increase in recall, respectively.\n",
    "\n",
    "- **F1 score:** Similar to recall, both CNT and GMG perform better than MOG, with a 37.91% and 53.68% increase in F1 score, respectively.\n",
    "\n",
    "- **Accuracy:** Both CNT and GMG perform worse than MOG with a 13.89% and 1.04% decrease in accuracy, respectively.\n",
    "\n",
    "Overall, we can see that CNT performs the worst compared to MOG in terms of precision, but performs the best in terms of recall and F1 score. GMG also performs better than MOG in terms of recall and F1 score, but slightly worse in terms of accuracy. Therefore, depending on the application and the importance of each metric, CNT or GMG might be a better choice than MOG. However, it is important to keep in mind that these results are specific to the data and the evaluation metrics used, and may not generalize to other applications."
   ]
  },
  {
   "cell_type": "markdown",
   "id": "3f95e262",
   "metadata": {},
   "source": [
    "Problems encountered: the code provided needs to be re run before calling main_evaluator() "
   ]
  }
 ],
 "metadata": {
  "kernelspec": {
   "display_name": "Python 3 (ipykernel)",
   "language": "python",
   "name": "python3"
  },
  "language_info": {
   "codemirror_mode": {
    "name": "ipython",
    "version": 3
   },
   "file_extension": ".py",
   "mimetype": "text/x-python",
   "name": "python",
   "nbconvert_exporter": "python",
   "pygments_lexer": "ipython3",
   "version": "3.10.8"
  }
 },
 "nbformat": 4,
 "nbformat_minor": 5
}
